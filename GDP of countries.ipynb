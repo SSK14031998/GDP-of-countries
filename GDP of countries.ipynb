{
 "cells": [
  {
   "cell_type": "code",
   "execution_count": 1,
   "metadata": {},
   "outputs": [],
   "source": [
    "import pandas as pd\n",
    "import matplotlib.pyplot as plt\n",
    "from sklearn.metrics import accuracy_score, precision_score, recall_score, f1_score, roc_curve\n",
    "from sklearn import metrics\n",
    "from sklearn.datasets import make_classification\n",
    "from sklearn.linear_model import LogisticRegression\n",
    "from sklearn.model_selection import train_test_split\n",
    "from matplotlib import pyplot as plt\n",
    "from numpy import argmax"
   ]
  },
  {
   "cell_type": "code",
   "execution_count": 2,
   "metadata": {},
   "outputs": [],
   "source": [
    "import warnings\n",
    "warnings.filterwarnings(\"ignore\")"
   ]
  },
  {
   "cell_type": "code",
   "execution_count": 3,
   "metadata": {},
   "outputs": [
    {
     "data": {
      "text/html": [
       "<div>\n",
       "<style scoped>\n",
       "    .dataframe tbody tr th:only-of-type {\n",
       "        vertical-align: middle;\n",
       "    }\n",
       "\n",
       "    .dataframe tbody tr th {\n",
       "        vertical-align: top;\n",
       "    }\n",
       "\n",
       "    .dataframe thead th {\n",
       "        text-align: right;\n",
       "    }\n",
       "</style>\n",
       "<table border=\"1\" class=\"dataframe\">\n",
       "  <thead>\n",
       "    <tr style=\"text-align: right;\">\n",
       "      <th></th>\n",
       "      <th>Year</th>\n",
       "      <th>Destination</th>\n",
       "      <th>Quantity (In MT)</th>\n",
       "      <th>% to TotaI</th>\n",
       "      <th>Unit VaIue ₹/Tonne</th>\n",
       "      <th>Total Value (Rs. In Cr)</th>\n",
       "    </tr>\n",
       "  </thead>\n",
       "  <tbody>\n",
       "    <tr>\n",
       "      <th>0</th>\n",
       "      <td>2009</td>\n",
       "      <td>ITALY</td>\n",
       "      <td>51207</td>\n",
       "      <td>25.97</td>\n",
       "      <td>108438</td>\n",
       "      <td>555.278467</td>\n",
       "    </tr>\n",
       "    <tr>\n",
       "      <th>1</th>\n",
       "      <td>2009</td>\n",
       "      <td>RUSSIAN FEDERATION</td>\n",
       "      <td>16143</td>\n",
       "      <td>8.19</td>\n",
       "      <td>122342</td>\n",
       "      <td>197.496691</td>\n",
       "    </tr>\n",
       "    <tr>\n",
       "      <th>2</th>\n",
       "      <td>2009</td>\n",
       "      <td>GERMANY</td>\n",
       "      <td>14715</td>\n",
       "      <td>7.46</td>\n",
       "      <td>123266</td>\n",
       "      <td>181.385919</td>\n",
       "    </tr>\n",
       "    <tr>\n",
       "      <th>3</th>\n",
       "      <td>2009</td>\n",
       "      <td>BELGIUM</td>\n",
       "      <td>9673</td>\n",
       "      <td>4.91</td>\n",
       "      <td>105832</td>\n",
       "      <td>102.371294</td>\n",
       "    </tr>\n",
       "    <tr>\n",
       "      <th>4</th>\n",
       "      <td>2009</td>\n",
       "      <td>SPAIN</td>\n",
       "      <td>8556</td>\n",
       "      <td>4.34</td>\n",
       "      <td>97231</td>\n",
       "      <td>83.190844</td>\n",
       "    </tr>\n",
       "    <tr>\n",
       "      <th>5</th>\n",
       "      <td>2009</td>\n",
       "      <td>UKRAINE</td>\n",
       "      <td>5445</td>\n",
       "      <td>2.76</td>\n",
       "      <td>139936</td>\n",
       "      <td>76.195152</td>\n",
       "    </tr>\n",
       "    <tr>\n",
       "      <th>6</th>\n",
       "      <td>2009</td>\n",
       "      <td>FINLAND</td>\n",
       "      <td>5318</td>\n",
       "      <td>2.70</td>\n",
       "      <td>130918</td>\n",
       "      <td>69.622192</td>\n",
       "    </tr>\n",
       "    <tr>\n",
       "      <th>7</th>\n",
       "      <td>2009</td>\n",
       "      <td>JORDAN</td>\n",
       "      <td>5187</td>\n",
       "      <td>2.63</td>\n",
       "      <td>112351</td>\n",
       "      <td>58.276464</td>\n",
       "    </tr>\n",
       "    <tr>\n",
       "      <th>8</th>\n",
       "      <td>2009</td>\n",
       "      <td>CROATIA</td>\n",
       "      <td>4819</td>\n",
       "      <td>2.44</td>\n",
       "      <td>96869</td>\n",
       "      <td>46.681171</td>\n",
       "    </tr>\n",
       "    <tr>\n",
       "      <th>9</th>\n",
       "      <td>2009</td>\n",
       "      <td>SLOVENIA</td>\n",
       "      <td>4715</td>\n",
       "      <td>2.39</td>\n",
       "      <td>95455</td>\n",
       "      <td>45.007033</td>\n",
       "    </tr>\n",
       "  </tbody>\n",
       "</table>\n",
       "</div>"
      ],
      "text/plain": [
       "   Year         Destination  Quantity (In MT)  % to TotaI  Unit VaIue ₹/Tonne  \\\n",
       "0  2009               ITALY             51207       25.97              108438   \n",
       "1  2009  RUSSIAN FEDERATION             16143        8.19              122342   \n",
       "2  2009             GERMANY             14715        7.46              123266   \n",
       "3  2009             BELGIUM              9673        4.91              105832   \n",
       "4  2009               SPAIN              8556        4.34               97231   \n",
       "5  2009             UKRAINE              5445        2.76              139936   \n",
       "6  2009             FINLAND              5318        2.70              130918   \n",
       "7  2009              JORDAN              5187        2.63              112351   \n",
       "8  2009             CROATIA              4819        2.44               96869   \n",
       "9  2009            SLOVENIA              4715        2.39               95455   \n",
       "\n",
       "   Total Value (Rs. In Cr)  \n",
       "0               555.278467  \n",
       "1               197.496691  \n",
       "2               181.385919  \n",
       "3               102.371294  \n",
       "4                83.190844  \n",
       "5                76.195152  \n",
       "6                69.622192  \n",
       "7                58.276464  \n",
       "8                46.681171  \n",
       "9                45.007033  "
      ]
     },
     "execution_count": 3,
     "metadata": {},
     "output_type": "execute_result"
    }
   ],
   "source": [
    "data = pd.read_excel('data.xlsx')\n",
    "data.head(10)"
   ]
  },
  {
   "cell_type": "code",
   "execution_count": 4,
   "metadata": {},
   "outputs": [],
   "source": [
    "x=data[['Destination','Quantity (In MT)','% to TotaI','Unit VaIue ₹/Tonne','Total Value (Rs. In Cr)']]\n",
    "y=data['Year']"
   ]
  },
  {
   "cell_type": "code",
   "execution_count": 5,
   "metadata": {},
   "outputs": [
    {
     "data": {
      "text/html": [
       "<div>\n",
       "<style scoped>\n",
       "    .dataframe tbody tr th:only-of-type {\n",
       "        vertical-align: middle;\n",
       "    }\n",
       "\n",
       "    .dataframe tbody tr th {\n",
       "        vertical-align: top;\n",
       "    }\n",
       "\n",
       "    .dataframe thead th {\n",
       "        text-align: right;\n",
       "    }\n",
       "</style>\n",
       "<table border=\"1\" class=\"dataframe\">\n",
       "  <thead>\n",
       "    <tr style=\"text-align: right;\">\n",
       "      <th></th>\n",
       "      <th>Destination</th>\n",
       "      <th>Quantity (In MT)</th>\n",
       "      <th>% to TotaI</th>\n",
       "      <th>Unit VaIue ₹/Tonne</th>\n",
       "      <th>Total Value (Rs. In Cr)</th>\n",
       "    </tr>\n",
       "  </thead>\n",
       "  <tbody>\n",
       "    <tr>\n",
       "      <th>0</th>\n",
       "      <td>ITALY</td>\n",
       "      <td>51207</td>\n",
       "      <td>25.97</td>\n",
       "      <td>108438</td>\n",
       "      <td>555.278467</td>\n",
       "    </tr>\n",
       "    <tr>\n",
       "      <th>1</th>\n",
       "      <td>RUSSIAN FEDERATION</td>\n",
       "      <td>16143</td>\n",
       "      <td>8.19</td>\n",
       "      <td>122342</td>\n",
       "      <td>197.496691</td>\n",
       "    </tr>\n",
       "    <tr>\n",
       "      <th>2</th>\n",
       "      <td>GERMANY</td>\n",
       "      <td>14715</td>\n",
       "      <td>7.46</td>\n",
       "      <td>123266</td>\n",
       "      <td>181.385919</td>\n",
       "    </tr>\n",
       "    <tr>\n",
       "      <th>3</th>\n",
       "      <td>BELGIUM</td>\n",
       "      <td>9673</td>\n",
       "      <td>4.91</td>\n",
       "      <td>105832</td>\n",
       "      <td>102.371294</td>\n",
       "    </tr>\n",
       "    <tr>\n",
       "      <th>4</th>\n",
       "      <td>SPAIN</td>\n",
       "      <td>8556</td>\n",
       "      <td>4.34</td>\n",
       "      <td>97231</td>\n",
       "      <td>83.190844</td>\n",
       "    </tr>\n",
       "    <tr>\n",
       "      <th>...</th>\n",
       "      <td>...</td>\n",
       "      <td>...</td>\n",
       "      <td>...</td>\n",
       "      <td>...</td>\n",
       "      <td>...</td>\n",
       "    </tr>\n",
       "    <tr>\n",
       "      <th>591</th>\n",
       "      <td>CANADA</td>\n",
       "      <td>435</td>\n",
       "      <td>0.26</td>\n",
       "      <td>198610</td>\n",
       "      <td>8.639535</td>\n",
       "    </tr>\n",
       "    <tr>\n",
       "      <th>592</th>\n",
       "      <td>TOGO</td>\n",
       "      <td>423</td>\n",
       "      <td>0.26</td>\n",
       "      <td>183989</td>\n",
       "      <td>7.782735</td>\n",
       "    </tr>\n",
       "    <tr>\n",
       "      <th>593</th>\n",
       "      <td>MYANMAR</td>\n",
       "      <td>408</td>\n",
       "      <td>0.25</td>\n",
       "      <td>139547</td>\n",
       "      <td>5.693518</td>\n",
       "    </tr>\n",
       "    <tr>\n",
       "      <th>594</th>\n",
       "      <td>JAPAN</td>\n",
       "      <td>404</td>\n",
       "      <td>0.25</td>\n",
       "      <td>255651</td>\n",
       "      <td>10.328300</td>\n",
       "    </tr>\n",
       "    <tr>\n",
       "      <th>595</th>\n",
       "      <td>OTHERS</td>\n",
       "      <td>5616</td>\n",
       "      <td>3.42</td>\n",
       "      <td>199804</td>\n",
       "      <td>112.209926</td>\n",
       "    </tr>\n",
       "  </tbody>\n",
       "</table>\n",
       "<p>596 rows × 5 columns</p>\n",
       "</div>"
      ],
      "text/plain": [
       "            Destination  Quantity (In MT)  % to TotaI  Unit VaIue ₹/Tonne  \\\n",
       "0                 ITALY             51207       25.97              108438   \n",
       "1    RUSSIAN FEDERATION             16143        8.19              122342   \n",
       "2               GERMANY             14715        7.46              123266   \n",
       "3               BELGIUM              9673        4.91              105832   \n",
       "4                 SPAIN              8556        4.34               97231   \n",
       "..                  ...               ...         ...                 ...   \n",
       "591              CANADA               435        0.26              198610   \n",
       "592                TOGO               423        0.26              183989   \n",
       "593             MYANMAR               408        0.25              139547   \n",
       "594               JAPAN               404        0.25              255651   \n",
       "595              OTHERS              5616        3.42              199804   \n",
       "\n",
       "     Total Value (Rs. In Cr)  \n",
       "0                 555.278467  \n",
       "1                 197.496691  \n",
       "2                 181.385919  \n",
       "3                 102.371294  \n",
       "4                  83.190844  \n",
       "..                       ...  \n",
       "591                 8.639535  \n",
       "592                 7.782735  \n",
       "593                 5.693518  \n",
       "594                10.328300  \n",
       "595               112.209926  \n",
       "\n",
       "[596 rows x 5 columns]"
      ]
     },
     "execution_count": 5,
     "metadata": {},
     "output_type": "execute_result"
    }
   ],
   "source": [
    "x"
   ]
  },
  {
   "cell_type": "code",
   "execution_count": 6,
   "metadata": {},
   "outputs": [
    {
     "data": {
      "text/plain": [
       "0      2009\n",
       "1      2009\n",
       "2      2009\n",
       "3      2009\n",
       "4      2009\n",
       "       ... \n",
       "591    2021\n",
       "592    2021\n",
       "593    2021\n",
       "594    2021\n",
       "595    2021\n",
       "Name: Year, Length: 596, dtype: int64"
      ]
     },
     "execution_count": 6,
     "metadata": {},
     "output_type": "execute_result"
    }
   ],
   "source": [
    "y"
   ]
  },
  {
   "cell_type": "code",
   "execution_count": 7,
   "metadata": {},
   "outputs": [],
   "source": [
    "from sklearn.model_selection import train_test_split\n",
    "x_train,x_test,y_train,y_test=train_test_split(x,y,test_size=0.2)"
   ]
  },
  {
   "cell_type": "code",
   "execution_count": 8,
   "metadata": {},
   "outputs": [
    {
     "data": {
      "text/html": [
       "<div>\n",
       "<style scoped>\n",
       "    .dataframe tbody tr th:only-of-type {\n",
       "        vertical-align: middle;\n",
       "    }\n",
       "\n",
       "    .dataframe tbody tr th {\n",
       "        vertical-align: top;\n",
       "    }\n",
       "\n",
       "    .dataframe thead th {\n",
       "        text-align: right;\n",
       "    }\n",
       "</style>\n",
       "<table border=\"1\" class=\"dataframe\">\n",
       "  <thead>\n",
       "    <tr style=\"text-align: right;\">\n",
       "      <th></th>\n",
       "      <th>Destination</th>\n",
       "      <th>Quantity (In MT)</th>\n",
       "      <th>% to TotaI</th>\n",
       "      <th>Unit VaIue ₹/Tonne</th>\n",
       "      <th>Total Value (Rs. In Cr)</th>\n",
       "    </tr>\n",
       "  </thead>\n",
       "  <tbody>\n",
       "    <tr>\n",
       "      <th>179</th>\n",
       "      <td>OTHERS</td>\n",
       "      <td>14530</td>\n",
       "      <td>4.36</td>\n",
       "      <td>155875</td>\n",
       "      <td>226.486375</td>\n",
       "    </tr>\n",
       "    <tr>\n",
       "      <th>499</th>\n",
       "      <td>POLAND</td>\n",
       "      <td>16503</td>\n",
       "      <td>5.05</td>\n",
       "      <td>143008</td>\n",
       "      <td>236.006102</td>\n",
       "    </tr>\n",
       "    <tr>\n",
       "      <th>405</th>\n",
       "      <td>VIETNAM</td>\n",
       "      <td>343933</td>\n",
       "      <td>100.00</td>\n",
       "      <td>158362</td>\n",
       "      <td>0.000000</td>\n",
       "    </tr>\n",
       "    <tr>\n",
       "      <th>260</th>\n",
       "      <td>CANADA</td>\n",
       "      <td>1158</td>\n",
       "      <td>0.39</td>\n",
       "      <td>143075</td>\n",
       "      <td>16.568085</td>\n",
       "    </tr>\n",
       "    <tr>\n",
       "      <th>82</th>\n",
       "      <td>CHINA,PEOPLE'S R/O</td>\n",
       "      <td>885</td>\n",
       "      <td>0.43</td>\n",
       "      <td>96610</td>\n",
       "      <td>8.549985</td>\n",
       "    </tr>\n",
       "    <tr>\n",
       "      <th>...</th>\n",
       "      <td>...</td>\n",
       "      <td>...</td>\n",
       "      <td>...</td>\n",
       "      <td>...</td>\n",
       "      <td>...</td>\n",
       "    </tr>\n",
       "    <tr>\n",
       "      <th>103</th>\n",
       "      <td>EGYPT</td>\n",
       "      <td>4349</td>\n",
       "      <td>1.45</td>\n",
       "      <td>88148</td>\n",
       "      <td>38.335565</td>\n",
       "    </tr>\n",
       "    <tr>\n",
       "      <th>483</th>\n",
       "      <td>SENEGAL</td>\n",
       "      <td>1586</td>\n",
       "      <td>0.45</td>\n",
       "      <td>197152</td>\n",
       "      <td>31.268307</td>\n",
       "    </tr>\n",
       "    <tr>\n",
       "      <th>135</th>\n",
       "      <td>ITALY</td>\n",
       "      <td>71010</td>\n",
       "      <td>21.31</td>\n",
       "      <td>137036</td>\n",
       "      <td>973.092636</td>\n",
       "    </tr>\n",
       "    <tr>\n",
       "      <th>156</th>\n",
       "      <td>SINGAPORE</td>\n",
       "      <td>3586</td>\n",
       "      <td>1.08</td>\n",
       "      <td>112111</td>\n",
       "      <td>40.203005</td>\n",
       "    </tr>\n",
       "    <tr>\n",
       "      <th>326</th>\n",
       "      <td>POLAND</td>\n",
       "      <td>6493</td>\n",
       "      <td>2.09</td>\n",
       "      <td>142316</td>\n",
       "      <td>92.405779</td>\n",
       "    </tr>\n",
       "  </tbody>\n",
       "</table>\n",
       "<p>476 rows × 5 columns</p>\n",
       "</div>"
      ],
      "text/plain": [
       "            Destination  Quantity (In MT)  % to TotaI  Unit VaIue ₹/Tonne  \\\n",
       "179              OTHERS             14530        4.36              155875   \n",
       "499              POLAND             16503        5.05              143008   \n",
       "405             VIETNAM            343933      100.00              158362   \n",
       "260              CANADA              1158        0.39              143075   \n",
       "82   CHINA,PEOPLE'S R/O               885        0.43               96610   \n",
       "..                  ...               ...         ...                 ...   \n",
       "103               EGYPT              4349        1.45               88148   \n",
       "483             SENEGAL              1586        0.45              197152   \n",
       "135               ITALY             71010       21.31              137036   \n",
       "156           SINGAPORE              3586        1.08              112111   \n",
       "326              POLAND              6493        2.09              142316   \n",
       "\n",
       "     Total Value (Rs. In Cr)  \n",
       "179               226.486375  \n",
       "499               236.006102  \n",
       "405                 0.000000  \n",
       "260                16.568085  \n",
       "82                  8.549985  \n",
       "..                       ...  \n",
       "103                38.335565  \n",
       "483                31.268307  \n",
       "135               973.092636  \n",
       "156                40.203005  \n",
       "326                92.405779  \n",
       "\n",
       "[476 rows x 5 columns]"
      ]
     },
     "execution_count": 8,
     "metadata": {},
     "output_type": "execute_result"
    }
   ],
   "source": [
    "x_train"
   ]
  },
  {
   "cell_type": "code",
   "execution_count": 9,
   "metadata": {},
   "outputs": [
    {
     "data": {
      "text/html": [
       "<div>\n",
       "<style scoped>\n",
       "    .dataframe tbody tr th:only-of-type {\n",
       "        vertical-align: middle;\n",
       "    }\n",
       "\n",
       "    .dataframe tbody tr th {\n",
       "        vertical-align: top;\n",
       "    }\n",
       "\n",
       "    .dataframe thead th {\n",
       "        text-align: right;\n",
       "    }\n",
       "</style>\n",
       "<table border=\"1\" class=\"dataframe\">\n",
       "  <thead>\n",
       "    <tr style=\"text-align: right;\">\n",
       "      <th></th>\n",
       "      <th>Destination</th>\n",
       "      <th>Quantity (In MT)</th>\n",
       "      <th>% to TotaI</th>\n",
       "      <th>Unit VaIue ₹/Tonne</th>\n",
       "      <th>Total Value (Rs. In Cr)</th>\n",
       "    </tr>\n",
       "  </thead>\n",
       "  <tbody>\n",
       "    <tr>\n",
       "      <th>295</th>\n",
       "      <td>SWITZERLAND</td>\n",
       "      <td>2727</td>\n",
       "      <td>0.99</td>\n",
       "      <td>225149</td>\n",
       "      <td>61.398132</td>\n",
       "    </tr>\n",
       "    <tr>\n",
       "      <th>271</th>\n",
       "      <td>ITALY</td>\n",
       "      <td>60173</td>\n",
       "      <td>21.88</td>\n",
       "      <td>167429</td>\n",
       "      <td>1007.470522</td>\n",
       "    </tr>\n",
       "    <tr>\n",
       "      <th>61</th>\n",
       "      <td>SLOVENIA</td>\n",
       "      <td>3344</td>\n",
       "      <td>1.64</td>\n",
       "      <td>75778</td>\n",
       "      <td>25.340163</td>\n",
       "    </tr>\n",
       "    <tr>\n",
       "      <th>251</th>\n",
       "      <td>POLAND</td>\n",
       "      <td>2516</td>\n",
       "      <td>0.84</td>\n",
       "      <td>144101</td>\n",
       "      <td>36.255812</td>\n",
       "    </tr>\n",
       "    <tr>\n",
       "      <th>272</th>\n",
       "      <td>GERMANY</td>\n",
       "      <td>25215</td>\n",
       "      <td>9.17</td>\n",
       "      <td>187035</td>\n",
       "      <td>471.608752</td>\n",
       "    </tr>\n",
       "    <tr>\n",
       "      <th>...</th>\n",
       "      <td>...</td>\n",
       "      <td>...</td>\n",
       "      <td>...</td>\n",
       "      <td>...</td>\n",
       "      <td>...</td>\n",
       "    </tr>\n",
       "    <tr>\n",
       "      <th>87</th>\n",
       "      <td>BULGARIA</td>\n",
       "      <td>611</td>\n",
       "      <td>0.30</td>\n",
       "      <td>77578</td>\n",
       "      <td>4.740016</td>\n",
       "    </tr>\n",
       "    <tr>\n",
       "      <th>175</th>\n",
       "      <td>ALBANIA</td>\n",
       "      <td>1094</td>\n",
       "      <td>0.33</td>\n",
       "      <td>114117</td>\n",
       "      <td>12.484400</td>\n",
       "    </tr>\n",
       "    <tr>\n",
       "      <th>329</th>\n",
       "      <td>MALAYSIA</td>\n",
       "      <td>5788</td>\n",
       "      <td>1.87</td>\n",
       "      <td>146896</td>\n",
       "      <td>85.023405</td>\n",
       "    </tr>\n",
       "    <tr>\n",
       "      <th>210</th>\n",
       "      <td>UNITED ARAB EMIRATES</td>\n",
       "      <td>1792</td>\n",
       "      <td>0.58</td>\n",
       "      <td>203834</td>\n",
       "      <td>36.527053</td>\n",
       "    </tr>\n",
       "    <tr>\n",
       "      <th>62</th>\n",
       "      <td>ISRAEL</td>\n",
       "      <td>3122</td>\n",
       "      <td>1.53</td>\n",
       "      <td>99552</td>\n",
       "      <td>31.080134</td>\n",
       "    </tr>\n",
       "  </tbody>\n",
       "</table>\n",
       "<p>120 rows × 5 columns</p>\n",
       "</div>"
      ],
      "text/plain": [
       "              Destination  Quantity (In MT)  % to TotaI  Unit VaIue ₹/Tonne  \\\n",
       "295           SWITZERLAND              2727        0.99              225149   \n",
       "271                 ITALY             60173       21.88              167429   \n",
       "61               SLOVENIA              3344        1.64               75778   \n",
       "251                POLAND              2516        0.84              144101   \n",
       "272               GERMANY             25215        9.17              187035   \n",
       "..                    ...               ...         ...                 ...   \n",
       "87               BULGARIA               611        0.30               77578   \n",
       "175               ALBANIA              1094        0.33              114117   \n",
       "329              MALAYSIA              5788        1.87              146896   \n",
       "210  UNITED ARAB EMIRATES              1792        0.58              203834   \n",
       "62                 ISRAEL              3122        1.53               99552   \n",
       "\n",
       "     Total Value (Rs. In Cr)  \n",
       "295                61.398132  \n",
       "271              1007.470522  \n",
       "61                 25.340163  \n",
       "251                36.255812  \n",
       "272               471.608752  \n",
       "..                       ...  \n",
       "87                  4.740016  \n",
       "175                12.484400  \n",
       "329                85.023405  \n",
       "210                36.527053  \n",
       "62                 31.080134  \n",
       "\n",
       "[120 rows x 5 columns]"
      ]
     },
     "execution_count": 9,
     "metadata": {},
     "output_type": "execute_result"
    }
   ],
   "source": [
    "x_test"
   ]
  },
  {
   "cell_type": "code",
   "execution_count": 10,
   "metadata": {},
   "outputs": [
    {
     "data": {
      "text/plain": [
       "179    2012\n",
       "499    2020\n",
       "405    2017\n",
       "260    2014\n",
       "82     2010\n",
       "       ... \n",
       "103    2011\n",
       "483    2019\n",
       "135    2012\n",
       "156    2012\n",
       "326    2016\n",
       "Name: Year, Length: 476, dtype: int64"
      ]
     },
     "execution_count": 10,
     "metadata": {},
     "output_type": "execute_result"
    }
   ],
   "source": [
    "y_train"
   ]
  },
  {
   "cell_type": "code",
   "execution_count": 11,
   "metadata": {},
   "outputs": [
    {
     "data": {
      "text/plain": [
       "295    2015\n",
       "271    2015\n",
       "61     2010\n",
       "251    2014\n",
       "272    2015\n",
       "       ... \n",
       "87     2010\n",
       "175    2012\n",
       "329    2016\n",
       "210    2013\n",
       "62     2010\n",
       "Name: Year, Length: 120, dtype: int64"
      ]
     },
     "execution_count": 11,
     "metadata": {},
     "output_type": "execute_result"
    }
   ],
   "source": [
    "y_test"
   ]
  },
  {
   "cell_type": "code",
   "execution_count": 12,
   "metadata": {},
   "outputs": [
    {
     "data": {
      "text/plain": [
       "120"
      ]
     },
     "execution_count": 12,
     "metadata": {},
     "output_type": "execute_result"
    }
   ],
   "source": [
    "len(x_test)"
   ]
  },
  {
   "cell_type": "code",
   "execution_count": 14,
   "metadata": {},
   "outputs": [],
   "source": [
    "from sklearn.linear_model import LogisticRegression\n",
    "clf=LogisticRegression()"
   ]
  },
  {
   "cell_type": "code",
   "execution_count": 15,
   "metadata": {},
   "outputs": [],
   "source": [
    "# Here we are using Label encoder since string can't be converted into float\n",
    "from sklearn.preprocessing import LabelEncoder\n",
    "x_train['Destination']=LabelEncoder().fit_transform(x_train['Destination'])\n",
    "x_test['Destination']=LabelEncoder().fit_transform(x_test['Destination'])"
   ]
  },
  {
   "cell_type": "code",
   "execution_count": 16,
   "metadata": {},
   "outputs": [
    {
     "data": {
      "text/html": [
       "<style>#sk-container-id-1 {color: black;background-color: white;}#sk-container-id-1 pre{padding: 0;}#sk-container-id-1 div.sk-toggleable {background-color: white;}#sk-container-id-1 label.sk-toggleable__label {cursor: pointer;display: block;width: 100%;margin-bottom: 0;padding: 0.3em;box-sizing: border-box;text-align: center;}#sk-container-id-1 label.sk-toggleable__label-arrow:before {content: \"▸\";float: left;margin-right: 0.25em;color: #696969;}#sk-container-id-1 label.sk-toggleable__label-arrow:hover:before {color: black;}#sk-container-id-1 div.sk-estimator:hover label.sk-toggleable__label-arrow:before {color: black;}#sk-container-id-1 div.sk-toggleable__content {max-height: 0;max-width: 0;overflow: hidden;text-align: left;background-color: #f0f8ff;}#sk-container-id-1 div.sk-toggleable__content pre {margin: 0.2em;color: black;border-radius: 0.25em;background-color: #f0f8ff;}#sk-container-id-1 input.sk-toggleable__control:checked~div.sk-toggleable__content {max-height: 200px;max-width: 100%;overflow: auto;}#sk-container-id-1 input.sk-toggleable__control:checked~label.sk-toggleable__label-arrow:before {content: \"▾\";}#sk-container-id-1 div.sk-estimator input.sk-toggleable__control:checked~label.sk-toggleable__label {background-color: #d4ebff;}#sk-container-id-1 div.sk-label input.sk-toggleable__control:checked~label.sk-toggleable__label {background-color: #d4ebff;}#sk-container-id-1 input.sk-hidden--visually {border: 0;clip: rect(1px 1px 1px 1px);clip: rect(1px, 1px, 1px, 1px);height: 1px;margin: -1px;overflow: hidden;padding: 0;position: absolute;width: 1px;}#sk-container-id-1 div.sk-estimator {font-family: monospace;background-color: #f0f8ff;border: 1px dotted black;border-radius: 0.25em;box-sizing: border-box;margin-bottom: 0.5em;}#sk-container-id-1 div.sk-estimator:hover {background-color: #d4ebff;}#sk-container-id-1 div.sk-parallel-item::after {content: \"\";width: 100%;border-bottom: 1px solid gray;flex-grow: 1;}#sk-container-id-1 div.sk-label:hover label.sk-toggleable__label {background-color: #d4ebff;}#sk-container-id-1 div.sk-serial::before {content: \"\";position: absolute;border-left: 1px solid gray;box-sizing: border-box;top: 0;bottom: 0;left: 50%;z-index: 0;}#sk-container-id-1 div.sk-serial {display: flex;flex-direction: column;align-items: center;background-color: white;padding-right: 0.2em;padding-left: 0.2em;position: relative;}#sk-container-id-1 div.sk-item {position: relative;z-index: 1;}#sk-container-id-1 div.sk-parallel {display: flex;align-items: stretch;justify-content: center;background-color: white;position: relative;}#sk-container-id-1 div.sk-item::before, #sk-container-id-1 div.sk-parallel-item::before {content: \"\";position: absolute;border-left: 1px solid gray;box-sizing: border-box;top: 0;bottom: 0;left: 50%;z-index: -1;}#sk-container-id-1 div.sk-parallel-item {display: flex;flex-direction: column;z-index: 1;position: relative;background-color: white;}#sk-container-id-1 div.sk-parallel-item:first-child::after {align-self: flex-end;width: 50%;}#sk-container-id-1 div.sk-parallel-item:last-child::after {align-self: flex-start;width: 50%;}#sk-container-id-1 div.sk-parallel-item:only-child::after {width: 0;}#sk-container-id-1 div.sk-dashed-wrapped {border: 1px dashed gray;margin: 0 0.4em 0.5em 0.4em;box-sizing: border-box;padding-bottom: 0.4em;background-color: white;}#sk-container-id-1 div.sk-label label {font-family: monospace;font-weight: bold;display: inline-block;line-height: 1.2em;}#sk-container-id-1 div.sk-label-container {text-align: center;}#sk-container-id-1 div.sk-container {/* jupyter's `normalize.less` sets `[hidden] { display: none; }` but bootstrap.min.css set `[hidden] { display: none !important; }` so we also need the `!important` here to be able to override the default hidden behavior on the sphinx rendered scikit-learn.org. See: https://github.com/scikit-learn/scikit-learn/issues/21755 */display: inline-block !important;position: relative;}#sk-container-id-1 div.sk-text-repr-fallback {display: none;}</style><div id=\"sk-container-id-1\" class=\"sk-top-container\"><div class=\"sk-text-repr-fallback\"><pre>LogisticRegression()</pre><b>In a Jupyter environment, please rerun this cell to show the HTML representation or trust the notebook. <br />On GitHub, the HTML representation is unable to render, please try loading this page with nbviewer.org.</b></div><div class=\"sk-container\" hidden><div class=\"sk-item\"><div class=\"sk-estimator sk-toggleable\"><input class=\"sk-toggleable__control sk-hidden--visually\" id=\"sk-estimator-id-1\" type=\"checkbox\" checked><label for=\"sk-estimator-id-1\" class=\"sk-toggleable__label sk-toggleable__label-arrow\">LogisticRegression</label><div class=\"sk-toggleable__content\"><pre>LogisticRegression()</pre></div></div></div></div></div>"
      ],
      "text/plain": [
       "LogisticRegression()"
      ]
     },
     "execution_count": 16,
     "metadata": {},
     "output_type": "execute_result"
    }
   ],
   "source": [
    "clf.fit(x_train,y_train)"
   ]
  },
  {
   "cell_type": "code",
   "execution_count": 17,
   "metadata": {},
   "outputs": [
    {
     "name": "stdout",
     "output_type": "stream",
     "text": [
      "[2021 2017 2020 2021 2017 2021 2021 2020 2021 2020 2021 2020 2020 2020\n",
      " 2021 2021 2021 2020 2021 2020 2020 2020 2021 2021 2020 2020 2021 2021\n",
      " 2017 2020 2020 2021 2021 2020 2021 2021 2020 2017 2020 2017 2021 2017\n",
      " 2020 2021 2020 2021 2021 2021 2021 2020 2020 2021 2021 2021 2021 2020\n",
      " 2020 2020 2021 2021 2021 2021 2020 2021 2020 2021 2020 2021 2021 2020\n",
      " 2021 2021 2017 2020 2020 2020 2021 2020 2020 2021 2017 2021 2020 2020\n",
      " 2021 2021 2021 2021 2021 2021 2017 2021 2020 2017 2021 2020 2020 2021\n",
      " 2021 2021 2020 2020 2017 2020 2021 2017 2021 2020 2020 2021 2021 2021\n",
      " 2020 2021 2021 2021 2021 2020 2021 2020]\n"
     ]
    }
   ],
   "source": [
    "cf=clf.predict(x_test)\n",
    "print(cf)"
   ]
  },
  {
   "cell_type": "code",
   "execution_count": 18,
   "metadata": {},
   "outputs": [
    {
     "name": "stdout",
     "output_type": "stream",
     "text": [
      "[[0 0 0 0 0 0 0 0 1 0 0 2 2]\n",
      " [0 0 0 0 0 0 0 0 2 0 0 5 6]\n",
      " [0 0 0 0 0 0 0 0 0 0 0 1 3]\n",
      " [0 0 0 0 0 0 0 0 1 0 0 3 5]\n",
      " [0 0 0 0 0 0 0 0 1 0 0 5 5]\n",
      " [0 0 0 0 0 0 0 0 1 0 0 6 6]\n",
      " [0 0 0 0 0 0 0 0 2 0 0 5 6]\n",
      " [0 0 0 0 0 0 0 0 1 0 0 4 6]\n",
      " [0 0 0 0 0 0 0 0 0 0 0 2 4]\n",
      " [0 0 0 0 0 0 0 0 2 0 0 1 4]\n",
      " [0 0 0 0 0 0 0 0 1 0 0 4 3]\n",
      " [0 0 0 0 0 0 0 0 0 0 0 7 3]\n",
      " [0 0 0 0 0 0 0 0 0 0 0 1 9]]\n"
     ]
    }
   ],
   "source": [
    "from sklearn.metrics import confusion_matrix\n",
    "results = confusion_matrix(y_test, cf)\n",
    "print(results)"
   ]
  },
  {
   "cell_type": "code",
   "execution_count": 19,
   "metadata": {},
   "outputs": [],
   "source": [
    "from sklearn.tree import DecisionTreeClassifier\n",
    "c=DecisionTreeClassifier()"
   ]
  },
  {
   "cell_type": "code",
   "execution_count": 20,
   "metadata": {},
   "outputs": [
    {
     "data": {
      "text/html": [
       "<style>#sk-container-id-2 {color: black;background-color: white;}#sk-container-id-2 pre{padding: 0;}#sk-container-id-2 div.sk-toggleable {background-color: white;}#sk-container-id-2 label.sk-toggleable__label {cursor: pointer;display: block;width: 100%;margin-bottom: 0;padding: 0.3em;box-sizing: border-box;text-align: center;}#sk-container-id-2 label.sk-toggleable__label-arrow:before {content: \"▸\";float: left;margin-right: 0.25em;color: #696969;}#sk-container-id-2 label.sk-toggleable__label-arrow:hover:before {color: black;}#sk-container-id-2 div.sk-estimator:hover label.sk-toggleable__label-arrow:before {color: black;}#sk-container-id-2 div.sk-toggleable__content {max-height: 0;max-width: 0;overflow: hidden;text-align: left;background-color: #f0f8ff;}#sk-container-id-2 div.sk-toggleable__content pre {margin: 0.2em;color: black;border-radius: 0.25em;background-color: #f0f8ff;}#sk-container-id-2 input.sk-toggleable__control:checked~div.sk-toggleable__content {max-height: 200px;max-width: 100%;overflow: auto;}#sk-container-id-2 input.sk-toggleable__control:checked~label.sk-toggleable__label-arrow:before {content: \"▾\";}#sk-container-id-2 div.sk-estimator input.sk-toggleable__control:checked~label.sk-toggleable__label {background-color: #d4ebff;}#sk-container-id-2 div.sk-label input.sk-toggleable__control:checked~label.sk-toggleable__label {background-color: #d4ebff;}#sk-container-id-2 input.sk-hidden--visually {border: 0;clip: rect(1px 1px 1px 1px);clip: rect(1px, 1px, 1px, 1px);height: 1px;margin: -1px;overflow: hidden;padding: 0;position: absolute;width: 1px;}#sk-container-id-2 div.sk-estimator {font-family: monospace;background-color: #f0f8ff;border: 1px dotted black;border-radius: 0.25em;box-sizing: border-box;margin-bottom: 0.5em;}#sk-container-id-2 div.sk-estimator:hover {background-color: #d4ebff;}#sk-container-id-2 div.sk-parallel-item::after {content: \"\";width: 100%;border-bottom: 1px solid gray;flex-grow: 1;}#sk-container-id-2 div.sk-label:hover label.sk-toggleable__label {background-color: #d4ebff;}#sk-container-id-2 div.sk-serial::before {content: \"\";position: absolute;border-left: 1px solid gray;box-sizing: border-box;top: 0;bottom: 0;left: 50%;z-index: 0;}#sk-container-id-2 div.sk-serial {display: flex;flex-direction: column;align-items: center;background-color: white;padding-right: 0.2em;padding-left: 0.2em;position: relative;}#sk-container-id-2 div.sk-item {position: relative;z-index: 1;}#sk-container-id-2 div.sk-parallel {display: flex;align-items: stretch;justify-content: center;background-color: white;position: relative;}#sk-container-id-2 div.sk-item::before, #sk-container-id-2 div.sk-parallel-item::before {content: \"\";position: absolute;border-left: 1px solid gray;box-sizing: border-box;top: 0;bottom: 0;left: 50%;z-index: -1;}#sk-container-id-2 div.sk-parallel-item {display: flex;flex-direction: column;z-index: 1;position: relative;background-color: white;}#sk-container-id-2 div.sk-parallel-item:first-child::after {align-self: flex-end;width: 50%;}#sk-container-id-2 div.sk-parallel-item:last-child::after {align-self: flex-start;width: 50%;}#sk-container-id-2 div.sk-parallel-item:only-child::after {width: 0;}#sk-container-id-2 div.sk-dashed-wrapped {border: 1px dashed gray;margin: 0 0.4em 0.5em 0.4em;box-sizing: border-box;padding-bottom: 0.4em;background-color: white;}#sk-container-id-2 div.sk-label label {font-family: monospace;font-weight: bold;display: inline-block;line-height: 1.2em;}#sk-container-id-2 div.sk-label-container {text-align: center;}#sk-container-id-2 div.sk-container {/* jupyter's `normalize.less` sets `[hidden] { display: none; }` but bootstrap.min.css set `[hidden] { display: none !important; }` so we also need the `!important` here to be able to override the default hidden behavior on the sphinx rendered scikit-learn.org. See: https://github.com/scikit-learn/scikit-learn/issues/21755 */display: inline-block !important;position: relative;}#sk-container-id-2 div.sk-text-repr-fallback {display: none;}</style><div id=\"sk-container-id-2\" class=\"sk-top-container\"><div class=\"sk-text-repr-fallback\"><pre>DecisionTreeClassifier()</pre><b>In a Jupyter environment, please rerun this cell to show the HTML representation or trust the notebook. <br />On GitHub, the HTML representation is unable to render, please try loading this page with nbviewer.org.</b></div><div class=\"sk-container\" hidden><div class=\"sk-item\"><div class=\"sk-estimator sk-toggleable\"><input class=\"sk-toggleable__control sk-hidden--visually\" id=\"sk-estimator-id-2\" type=\"checkbox\" checked><label for=\"sk-estimator-id-2\" class=\"sk-toggleable__label sk-toggleable__label-arrow\">DecisionTreeClassifier</label><div class=\"sk-toggleable__content\"><pre>DecisionTreeClassifier()</pre></div></div></div></div></div>"
      ],
      "text/plain": [
       "DecisionTreeClassifier()"
      ]
     },
     "execution_count": 20,
     "metadata": {},
     "output_type": "execute_result"
    }
   ],
   "source": [
    "c.fit(x_train,y_train)"
   ]
  },
  {
   "cell_type": "code",
   "execution_count": 21,
   "metadata": {},
   "outputs": [
    {
     "name": "stdout",
     "output_type": "stream",
     "text": [
      "[2018 2018 2011 2012 2017 2021 2015 2009 2013 2009 2011 2015 2014 2018\n",
      " 2020 2018 2014 2016 2017 2014 2017 2017 2019 2014 2017 2017 2010 2017\n",
      " 2014 2018 2015 2011 2021 2009 2020 2017 2017 2012 2017 2011 2014 2013\n",
      " 2013 2015 2016 2017 2015 2013 2018 2016 2019 2017 2021 2016 2019 2012\n",
      " 2020 2017 2021 2010 2011 2017 2012 2013 2014 2014 2018 2013 2016 2013\n",
      " 2014 2020 2010 2013 2015 2015 2017 2017 2013 2010 2020 2015 2016 2014\n",
      " 2021 2020 2018 2011 2019 2013 2011 2014 2013 2017 2021 2012 2021 2012\n",
      " 2015 2013 2016 2013 2017 2018 2017 2011 2012 2011 2015 2010 2016 2014\n",
      " 2017 2019 2015 2010 2012 2019 2020 2009]\n"
     ]
    }
   ],
   "source": [
    "predict_decisionTrees=c.predict(x_test)\n",
    "print(predict_decisionTrees)"
   ]
  },
  {
   "cell_type": "code",
   "execution_count": 22,
   "metadata": {},
   "outputs": [
    {
     "name": "stdout",
     "output_type": "stream",
     "text": [
      "[[1 0 3 1 0 0 0 0 0 0 0 0 0]\n",
      " [3 4 3 0 0 0 0 0 1 1 0 0 1]\n",
      " [0 1 0 0 0 1 0 0 1 0 0 1 0]\n",
      " [0 0 1 1 1 0 2 0 1 2 0 1 0]\n",
      " [0 0 0 2 1 0 0 1 4 1 0 1 1]\n",
      " [0 0 0 2 4 1 1 1 2 1 0 1 0]\n",
      " [0 0 1 1 1 3 0 0 3 3 1 0 0]\n",
      " [0 0 0 0 1 3 1 2 3 0 1 0 0]\n",
      " [0 0 0 0 0 1 2 1 0 0 1 1 0]\n",
      " [0 0 1 0 1 1 1 1 2 0 0 0 0]\n",
      " [0 0 0 0 0 1 1 1 1 1 1 1 1]\n",
      " [0 0 0 1 3 1 1 1 2 0 0 1 0]\n",
      " [0 1 0 0 1 0 2 0 0 0 2 0 4]]\n"
     ]
    }
   ],
   "source": [
    "results = confusion_matrix(y_test,predict_decisionTrees)\n",
    "print(results)"
   ]
  },
  {
   "cell_type": "code",
   "execution_count": 23,
   "metadata": {},
   "outputs": [
    {
     "data": {
      "text/plain": [
       "0.13333333333333333"
      ]
     },
     "execution_count": 23,
     "metadata": {},
     "output_type": "execute_result"
    }
   ],
   "source": [
    "dcacc=accuracy_score(y_test,predict_decisionTrees)\n",
    "dcacc"
   ]
  },
  {
   "cell_type": "code",
   "execution_count": 29,
   "metadata": {},
   "outputs": [
    {
     "ename": "SyntaxError",
     "evalue": "invalid syntax (2590182155.py, line 2)",
     "output_type": "error",
     "traceback": [
      "\u001b[1;36m  Cell \u001b[1;32mIn[29], line 2\u001b[1;36m\u001b[0m\n\u001b[1;33m    alg=KNeighborsClassifier(%killbgscripts)\u001b[0m\n\u001b[1;37m                             ^\u001b[0m\n\u001b[1;31mSyntaxError\u001b[0m\u001b[1;31m:\u001b[0m invalid syntax\n"
     ]
    }
   ],
   "source": [
    "from sklearn.neighbors import KNeighborsClassifier\n",
    "alg=KNeighborsClassifier(%killbgscripts)"
   ]
  },
  {
   "cell_type": "code",
   "execution_count": 25,
   "metadata": {},
   "outputs": [
    {
     "data": {
      "text/html": [
       "<style>#sk-container-id-3 {color: black;background-color: white;}#sk-container-id-3 pre{padding: 0;}#sk-container-id-3 div.sk-toggleable {background-color: white;}#sk-container-id-3 label.sk-toggleable__label {cursor: pointer;display: block;width: 100%;margin-bottom: 0;padding: 0.3em;box-sizing: border-box;text-align: center;}#sk-container-id-3 label.sk-toggleable__label-arrow:before {content: \"▸\";float: left;margin-right: 0.25em;color: #696969;}#sk-container-id-3 label.sk-toggleable__label-arrow:hover:before {color: black;}#sk-container-id-3 div.sk-estimator:hover label.sk-toggleable__label-arrow:before {color: black;}#sk-container-id-3 div.sk-toggleable__content {max-height: 0;max-width: 0;overflow: hidden;text-align: left;background-color: #f0f8ff;}#sk-container-id-3 div.sk-toggleable__content pre {margin: 0.2em;color: black;border-radius: 0.25em;background-color: #f0f8ff;}#sk-container-id-3 input.sk-toggleable__control:checked~div.sk-toggleable__content {max-height: 200px;max-width: 100%;overflow: auto;}#sk-container-id-3 input.sk-toggleable__control:checked~label.sk-toggleable__label-arrow:before {content: \"▾\";}#sk-container-id-3 div.sk-estimator input.sk-toggleable__control:checked~label.sk-toggleable__label {background-color: #d4ebff;}#sk-container-id-3 div.sk-label input.sk-toggleable__control:checked~label.sk-toggleable__label {background-color: #d4ebff;}#sk-container-id-3 input.sk-hidden--visually {border: 0;clip: rect(1px 1px 1px 1px);clip: rect(1px, 1px, 1px, 1px);height: 1px;margin: -1px;overflow: hidden;padding: 0;position: absolute;width: 1px;}#sk-container-id-3 div.sk-estimator {font-family: monospace;background-color: #f0f8ff;border: 1px dotted black;border-radius: 0.25em;box-sizing: border-box;margin-bottom: 0.5em;}#sk-container-id-3 div.sk-estimator:hover {background-color: #d4ebff;}#sk-container-id-3 div.sk-parallel-item::after {content: \"\";width: 100%;border-bottom: 1px solid gray;flex-grow: 1;}#sk-container-id-3 div.sk-label:hover label.sk-toggleable__label {background-color: #d4ebff;}#sk-container-id-3 div.sk-serial::before {content: \"\";position: absolute;border-left: 1px solid gray;box-sizing: border-box;top: 0;bottom: 0;left: 50%;z-index: 0;}#sk-container-id-3 div.sk-serial {display: flex;flex-direction: column;align-items: center;background-color: white;padding-right: 0.2em;padding-left: 0.2em;position: relative;}#sk-container-id-3 div.sk-item {position: relative;z-index: 1;}#sk-container-id-3 div.sk-parallel {display: flex;align-items: stretch;justify-content: center;background-color: white;position: relative;}#sk-container-id-3 div.sk-item::before, #sk-container-id-3 div.sk-parallel-item::before {content: \"\";position: absolute;border-left: 1px solid gray;box-sizing: border-box;top: 0;bottom: 0;left: 50%;z-index: -1;}#sk-container-id-3 div.sk-parallel-item {display: flex;flex-direction: column;z-index: 1;position: relative;background-color: white;}#sk-container-id-3 div.sk-parallel-item:first-child::after {align-self: flex-end;width: 50%;}#sk-container-id-3 div.sk-parallel-item:last-child::after {align-self: flex-start;width: 50%;}#sk-container-id-3 div.sk-parallel-item:only-child::after {width: 0;}#sk-container-id-3 div.sk-dashed-wrapped {border: 1px dashed gray;margin: 0 0.4em 0.5em 0.4em;box-sizing: border-box;padding-bottom: 0.4em;background-color: white;}#sk-container-id-3 div.sk-label label {font-family: monospace;font-weight: bold;display: inline-block;line-height: 1.2em;}#sk-container-id-3 div.sk-label-container {text-align: center;}#sk-container-id-3 div.sk-container {/* jupyter's `normalize.less` sets `[hidden] { display: none; }` but bootstrap.min.css set `[hidden] { display: none !important; }` so we also need the `!important` here to be able to override the default hidden behavior on the sphinx rendered scikit-learn.org. See: https://github.com/scikit-learn/scikit-learn/issues/21755 */display: inline-block !important;position: relative;}#sk-container-id-3 div.sk-text-repr-fallback {display: none;}</style><div id=\"sk-container-id-3\" class=\"sk-top-container\"><div class=\"sk-text-repr-fallback\"><pre>KNeighborsClassifier()</pre><b>In a Jupyter environment, please rerun this cell to show the HTML representation or trust the notebook. <br />On GitHub, the HTML representation is unable to render, please try loading this page with nbviewer.org.</b></div><div class=\"sk-container\" hidden><div class=\"sk-item\"><div class=\"sk-estimator sk-toggleable\"><input class=\"sk-toggleable__control sk-hidden--visually\" id=\"sk-estimator-id-3\" type=\"checkbox\" checked><label for=\"sk-estimator-id-3\" class=\"sk-toggleable__label sk-toggleable__label-arrow\">KNeighborsClassifier</label><div class=\"sk-toggleable__content\"><pre>KNeighborsClassifier()</pre></div></div></div></div></div>"
      ],
      "text/plain": [
       "KNeighborsClassifier()"
      ]
     },
     "execution_count": 25,
     "metadata": {},
     "output_type": "execute_result"
    }
   ],
   "source": [
    "alg.fit(x_train,y_train)"
   ]
  },
  {
   "cell_type": "code",
   "execution_count": 26,
   "metadata": {},
   "outputs": [
    {
     "name": "stdout",
     "output_type": "stream",
     "text": [
      "[2015 2020 2011 2021 2017 2012 2016 2009 2015 2010 2011 2015 2018 2018\n",
      " 2014 2021 2014 2009 2014 2012 2009 2020 2013 2009 2013 2017 2009 2021\n",
      " 2014 2012 2012 2016 2020 2009 2021 2014 2009 2014 2009 2011 2013 2013\n",
      " 2013 2012 2016 2021 2011 2013 2016 2019 2018 2013 2021 2014 2020 2016\n",
      " 2020 2017 2009 2011 2009 2016 2012 2009 2009 2019 2013 2021 2016 2021\n",
      " 2021 2019 2012 2012 2013 2015 2010 2019 2013 2011 2013 2017 2010 2009\n",
      " 2017 2015 2012 2016 2014 2013 2012 2014 2013 2017 2016 2016 2013 2013\n",
      " 2015 2011 2016 2021 2011 2018 2020 2018 2019 2011 2013 2021 2021 2013\n",
      " 2017 2014 2012 2011 2009 2012 2017 2010]\n"
     ]
    }
   ],
   "source": [
    "predict_KNN=alg.predict(x_test)\n",
    "print(predict_KNN)"
   ]
  },
  {
   "cell_type": "code",
   "execution_count": 27,
   "metadata": {},
   "outputs": [
    {
     "name": "stdout",
     "output_type": "stream",
     "text": [
      "[[1 1 1 2 0 0 0 0 0 0 0 0 0]\n",
      " [4 1 5 1 0 0 0 1 0 0 0 0 1]\n",
      " [1 0 1 0 1 0 1 0 0 0 0 0 0]\n",
      " [1 0 1 1 1 0 1 1 0 1 1 0 1]\n",
      " [2 1 0 1 2 1 0 0 1 0 0 1 2]\n",
      " [1 0 1 1 4 1 0 2 0 0 1 1 1]\n",
      " [0 0 0 1 1 1 1 1 3 2 1 1 1]\n",
      " [1 0 0 1 2 2 0 0 2 0 1 0 2]\n",
      " [0 0 0 1 1 1 1 1 0 1 0 0 0]\n",
      " [0 0 0 0 1 2 0 2 0 1 0 1 0]\n",
      " [1 1 0 2 3 0 0 0 0 0 0 1 0]\n",
      " [2 0 0 0 0 0 2 2 1 0 1 0 2]\n",
      " [0 0 1 1 1 2 0 1 1 0 0 1 2]]\n"
     ]
    }
   ],
   "source": [
    "results = confusion_matrix(y_test,predict_KNN)\n",
    "print(results)"
   ]
  },
  {
   "cell_type": "code",
   "execution_count": 28,
   "metadata": {},
   "outputs": [
    {
     "data": {
      "text/plain": [
       "0.09166666666666666"
      ]
     },
     "execution_count": 28,
     "metadata": {},
     "output_type": "execute_result"
    }
   ],
   "source": [
    "knnacc=accuracy_score(y_test,predict_KNN)\n",
    "knnacc"
   ]
  },
  {
   "cell_type": "code",
   "execution_count": 28,
   "metadata": {},
   "outputs": [],
   "source": [
    "from sklearn.naive_bayes import GaussianNB\n",
    "al=GaussianNB()"
   ]
  },
  {
   "cell_type": "code",
   "execution_count": 29,
   "metadata": {},
   "outputs": [
    {
     "data": {
      "text/html": [
       "<style>#sk-container-id-4 {color: black;background-color: white;}#sk-container-id-4 pre{padding: 0;}#sk-container-id-4 div.sk-toggleable {background-color: white;}#sk-container-id-4 label.sk-toggleable__label {cursor: pointer;display: block;width: 100%;margin-bottom: 0;padding: 0.3em;box-sizing: border-box;text-align: center;}#sk-container-id-4 label.sk-toggleable__label-arrow:before {content: \"▸\";float: left;margin-right: 0.25em;color: #696969;}#sk-container-id-4 label.sk-toggleable__label-arrow:hover:before {color: black;}#sk-container-id-4 div.sk-estimator:hover label.sk-toggleable__label-arrow:before {color: black;}#sk-container-id-4 div.sk-toggleable__content {max-height: 0;max-width: 0;overflow: hidden;text-align: left;background-color: #f0f8ff;}#sk-container-id-4 div.sk-toggleable__content pre {margin: 0.2em;color: black;border-radius: 0.25em;background-color: #f0f8ff;}#sk-container-id-4 input.sk-toggleable__control:checked~div.sk-toggleable__content {max-height: 200px;max-width: 100%;overflow: auto;}#sk-container-id-4 input.sk-toggleable__control:checked~label.sk-toggleable__label-arrow:before {content: \"▾\";}#sk-container-id-4 div.sk-estimator input.sk-toggleable__control:checked~label.sk-toggleable__label {background-color: #d4ebff;}#sk-container-id-4 div.sk-label input.sk-toggleable__control:checked~label.sk-toggleable__label {background-color: #d4ebff;}#sk-container-id-4 input.sk-hidden--visually {border: 0;clip: rect(1px 1px 1px 1px);clip: rect(1px, 1px, 1px, 1px);height: 1px;margin: -1px;overflow: hidden;padding: 0;position: absolute;width: 1px;}#sk-container-id-4 div.sk-estimator {font-family: monospace;background-color: #f0f8ff;border: 1px dotted black;border-radius: 0.25em;box-sizing: border-box;margin-bottom: 0.5em;}#sk-container-id-4 div.sk-estimator:hover {background-color: #d4ebff;}#sk-container-id-4 div.sk-parallel-item::after {content: \"\";width: 100%;border-bottom: 1px solid gray;flex-grow: 1;}#sk-container-id-4 div.sk-label:hover label.sk-toggleable__label {background-color: #d4ebff;}#sk-container-id-4 div.sk-serial::before {content: \"\";position: absolute;border-left: 1px solid gray;box-sizing: border-box;top: 0;bottom: 0;left: 50%;z-index: 0;}#sk-container-id-4 div.sk-serial {display: flex;flex-direction: column;align-items: center;background-color: white;padding-right: 0.2em;padding-left: 0.2em;position: relative;}#sk-container-id-4 div.sk-item {position: relative;z-index: 1;}#sk-container-id-4 div.sk-parallel {display: flex;align-items: stretch;justify-content: center;background-color: white;position: relative;}#sk-container-id-4 div.sk-item::before, #sk-container-id-4 div.sk-parallel-item::before {content: \"\";position: absolute;border-left: 1px solid gray;box-sizing: border-box;top: 0;bottom: 0;left: 50%;z-index: -1;}#sk-container-id-4 div.sk-parallel-item {display: flex;flex-direction: column;z-index: 1;position: relative;background-color: white;}#sk-container-id-4 div.sk-parallel-item:first-child::after {align-self: flex-end;width: 50%;}#sk-container-id-4 div.sk-parallel-item:last-child::after {align-self: flex-start;width: 50%;}#sk-container-id-4 div.sk-parallel-item:only-child::after {width: 0;}#sk-container-id-4 div.sk-dashed-wrapped {border: 1px dashed gray;margin: 0 0.4em 0.5em 0.4em;box-sizing: border-box;padding-bottom: 0.4em;background-color: white;}#sk-container-id-4 div.sk-label label {font-family: monospace;font-weight: bold;display: inline-block;line-height: 1.2em;}#sk-container-id-4 div.sk-label-container {text-align: center;}#sk-container-id-4 div.sk-container {/* jupyter's `normalize.less` sets `[hidden] { display: none; }` but bootstrap.min.css set `[hidden] { display: none !important; }` so we also need the `!important` here to be able to override the default hidden behavior on the sphinx rendered scikit-learn.org. See: https://github.com/scikit-learn/scikit-learn/issues/21755 */display: inline-block !important;position: relative;}#sk-container-id-4 div.sk-text-repr-fallback {display: none;}</style><div id=\"sk-container-id-4\" class=\"sk-top-container\"><div class=\"sk-text-repr-fallback\"><pre>GaussianNB()</pre><b>In a Jupyter environment, please rerun this cell to show the HTML representation or trust the notebook. <br />On GitHub, the HTML representation is unable to render, please try loading this page with nbviewer.org.</b></div><div class=\"sk-container\" hidden><div class=\"sk-item\"><div class=\"sk-estimator sk-toggleable\"><input class=\"sk-toggleable__control sk-hidden--visually\" id=\"sk-estimator-id-4\" type=\"checkbox\" checked><label for=\"sk-estimator-id-4\" class=\"sk-toggleable__label sk-toggleable__label-arrow\">GaussianNB</label><div class=\"sk-toggleable__content\"><pre>GaussianNB()</pre></div></div></div></div></div>"
      ],
      "text/plain": [
       "GaussianNB()"
      ]
     },
     "execution_count": 29,
     "metadata": {},
     "output_type": "execute_result"
    }
   ],
   "source": [
    "al.fit(x_train,y_train)"
   ]
  },
  {
   "cell_type": "code",
   "execution_count": 30,
   "metadata": {},
   "outputs": [
    {
     "name": "stdout",
     "output_type": "stream",
     "text": [
      "[2013 2015 2013 2015 2009 2013 2013 2009 2015 2015 2010 2009 2015 2017\n",
      " 2015 2017 2012 2015 2013 2015 2015 2015 2015 2013 2011 2013 2015 2013\n",
      " 2009 2013 2021 2017 2014 2013 2013 2013 2021 2013 2011 2017 2015 2013\n",
      " 2013 2013 2021 2019 2009 2015 2013 2013 2013 2013 2015 2015 2015 2013\n",
      " 2013 2013 2009 2009 2015 2009 2013 2011 2011 2010 2010 2015 2011 2015\n",
      " 2009 2013 2017 2015 2013 2013 2015 2015 2013 2011 2015 2013 2013 2013\n",
      " 2016 2018 2017 2015 2011 2009 2013 2015 2013 2013 2013 2013 2009 2009\n",
      " 2017 2015 2013 2013 2013 2013 2015 2013 2012 2009 2011 2011 2013 2010\n",
      " 2009 2013 2017 2015 2013 2013 2011 2011]\n"
     ]
    }
   ],
   "source": [
    "predict_naive=al.predict(x_test)\n",
    "print(predict_naive)"
   ]
  },
  {
   "cell_type": "code",
   "execution_count": 31,
   "metadata": {},
   "outputs": [
    {
     "name": "stdout",
     "output_type": "stream",
     "text": [
      "[[5 0 1 0 4 0 0 0 0 0 0 0 0]\n",
      " [3 2 2 0 2 0 0 0 0 0 0 0 0]\n",
      " [1 2 5 0 0 0 1 0 1 0 0 0 0]\n",
      " [3 0 0 1 2 0 1 0 0 0 0 0 0]\n",
      " [1 0 1 1 5 0 2 0 1 0 0 0 0]\n",
      " [1 0 1 0 3 1 3 0 1 0 0 0 0]\n",
      " [0 0 0 0 4 0 2 0 1 1 0 0 1]\n",
      " [0 0 1 0 2 0 4 0 1 0 0 0 0]\n",
      " [0 0 0 0 4 0 3 0 0 0 1 0 0]\n",
      " [0 0 0 0 6 0 3 0 1 0 0 0 0]\n",
      " [0 0 0 0 2 0 3 0 1 0 0 0 1]\n",
      " [0 0 0 0 7 0 3 1 1 0 0 0 1]\n",
      " [0 0 0 0 4 0 4 0 0 0 0 0 0]]\n"
     ]
    }
   ],
   "source": [
    "results = confusion_matrix(y_test,predict_naive)\n",
    "print(results)"
   ]
  },
  {
   "cell_type": "code",
   "execution_count": 32,
   "metadata": {},
   "outputs": [
    {
     "data": {
      "text/plain": [
       "0.175"
      ]
     },
     "execution_count": 32,
     "metadata": {},
     "output_type": "execute_result"
    }
   ],
   "source": [
    "naacc=accuracy_score(y_test,predict_naive)\n",
    "naacc"
   ]
  },
  {
   "cell_type": "code",
   "execution_count": 30,
   "metadata": {},
   "outputs": [],
   "source": [
    "from sklearn.svm import SVC\n",
    "a=SVC(kernel='linear')"
   ]
  },
  {
   "cell_type": "code",
   "execution_count": 31,
   "metadata": {},
   "outputs": [
    {
     "data": {
      "text/html": [
       "<style>#sk-container-id-4 {color: black;background-color: white;}#sk-container-id-4 pre{padding: 0;}#sk-container-id-4 div.sk-toggleable {background-color: white;}#sk-container-id-4 label.sk-toggleable__label {cursor: pointer;display: block;width: 100%;margin-bottom: 0;padding: 0.3em;box-sizing: border-box;text-align: center;}#sk-container-id-4 label.sk-toggleable__label-arrow:before {content: \"▸\";float: left;margin-right: 0.25em;color: #696969;}#sk-container-id-4 label.sk-toggleable__label-arrow:hover:before {color: black;}#sk-container-id-4 div.sk-estimator:hover label.sk-toggleable__label-arrow:before {color: black;}#sk-container-id-4 div.sk-toggleable__content {max-height: 0;max-width: 0;overflow: hidden;text-align: left;background-color: #f0f8ff;}#sk-container-id-4 div.sk-toggleable__content pre {margin: 0.2em;color: black;border-radius: 0.25em;background-color: #f0f8ff;}#sk-container-id-4 input.sk-toggleable__control:checked~div.sk-toggleable__content {max-height: 200px;max-width: 100%;overflow: auto;}#sk-container-id-4 input.sk-toggleable__control:checked~label.sk-toggleable__label-arrow:before {content: \"▾\";}#sk-container-id-4 div.sk-estimator input.sk-toggleable__control:checked~label.sk-toggleable__label {background-color: #d4ebff;}#sk-container-id-4 div.sk-label input.sk-toggleable__control:checked~label.sk-toggleable__label {background-color: #d4ebff;}#sk-container-id-4 input.sk-hidden--visually {border: 0;clip: rect(1px 1px 1px 1px);clip: rect(1px, 1px, 1px, 1px);height: 1px;margin: -1px;overflow: hidden;padding: 0;position: absolute;width: 1px;}#sk-container-id-4 div.sk-estimator {font-family: monospace;background-color: #f0f8ff;border: 1px dotted black;border-radius: 0.25em;box-sizing: border-box;margin-bottom: 0.5em;}#sk-container-id-4 div.sk-estimator:hover {background-color: #d4ebff;}#sk-container-id-4 div.sk-parallel-item::after {content: \"\";width: 100%;border-bottom: 1px solid gray;flex-grow: 1;}#sk-container-id-4 div.sk-label:hover label.sk-toggleable__label {background-color: #d4ebff;}#sk-container-id-4 div.sk-serial::before {content: \"\";position: absolute;border-left: 1px solid gray;box-sizing: border-box;top: 0;bottom: 0;left: 50%;z-index: 0;}#sk-container-id-4 div.sk-serial {display: flex;flex-direction: column;align-items: center;background-color: white;padding-right: 0.2em;padding-left: 0.2em;position: relative;}#sk-container-id-4 div.sk-item {position: relative;z-index: 1;}#sk-container-id-4 div.sk-parallel {display: flex;align-items: stretch;justify-content: center;background-color: white;position: relative;}#sk-container-id-4 div.sk-item::before, #sk-container-id-4 div.sk-parallel-item::before {content: \"\";position: absolute;border-left: 1px solid gray;box-sizing: border-box;top: 0;bottom: 0;left: 50%;z-index: -1;}#sk-container-id-4 div.sk-parallel-item {display: flex;flex-direction: column;z-index: 1;position: relative;background-color: white;}#sk-container-id-4 div.sk-parallel-item:first-child::after {align-self: flex-end;width: 50%;}#sk-container-id-4 div.sk-parallel-item:last-child::after {align-self: flex-start;width: 50%;}#sk-container-id-4 div.sk-parallel-item:only-child::after {width: 0;}#sk-container-id-4 div.sk-dashed-wrapped {border: 1px dashed gray;margin: 0 0.4em 0.5em 0.4em;box-sizing: border-box;padding-bottom: 0.4em;background-color: white;}#sk-container-id-4 div.sk-label label {font-family: monospace;font-weight: bold;display: inline-block;line-height: 1.2em;}#sk-container-id-4 div.sk-label-container {text-align: center;}#sk-container-id-4 div.sk-container {/* jupyter's `normalize.less` sets `[hidden] { display: none; }` but bootstrap.min.css set `[hidden] { display: none !important; }` so we also need the `!important` here to be able to override the default hidden behavior on the sphinx rendered scikit-learn.org. See: https://github.com/scikit-learn/scikit-learn/issues/21755 */display: inline-block !important;position: relative;}#sk-container-id-4 div.sk-text-repr-fallback {display: none;}</style><div id=\"sk-container-id-4\" class=\"sk-top-container\"><div class=\"sk-text-repr-fallback\"><pre>SVC(kernel=&#x27;linear&#x27;)</pre><b>In a Jupyter environment, please rerun this cell to show the HTML representation or trust the notebook. <br />On GitHub, the HTML representation is unable to render, please try loading this page with nbviewer.org.</b></div><div class=\"sk-container\" hidden><div class=\"sk-item\"><div class=\"sk-estimator sk-toggleable\"><input class=\"sk-toggleable__control sk-hidden--visually\" id=\"sk-estimator-id-4\" type=\"checkbox\" checked><label for=\"sk-estimator-id-4\" class=\"sk-toggleable__label sk-toggleable__label-arrow\">SVC</label><div class=\"sk-toggleable__content\"><pre>SVC(kernel=&#x27;linear&#x27;)</pre></div></div></div></div></div>"
      ],
      "text/plain": [
       "SVC(kernel='linear')"
      ]
     },
     "execution_count": 31,
     "metadata": {},
     "output_type": "execute_result"
    }
   ],
   "source": [
    "a.fit(x_train,y_train)"
   ]
  },
  {
   "cell_type": "code",
   "execution_count": 32,
   "metadata": {},
   "outputs": [
    {
     "name": "stdout",
     "output_type": "stream",
     "text": [
      "[2021 2019 2010 2013 2019 2013 2021 2012 2021 2011 2010 2016 2012 2015\n",
      " 2021 2016 2021 2012 2021 2012 2011 2021 2012 2012 2019 2021 2009 2021\n",
      " 2019 2012 2021 2013 2021 2011 2021 2021 2012 2017 2011 2009 2021 2020\n",
      " 2019 2013 2013 2021 2021 2011 2013 2019 2016 2021 2021 2012 2021 2012\n",
      " 2021 2016 2012 2010 2010 2021 2011 2012 2012 2021 2020 2021 2013 2020\n",
      " 2021 2021 2011 2020 2021 2015 2012 2013 2015 2009 2019 2021 2011 2011\n",
      " 2021 2021 2013 2012 2016 2011 2011 2021 2021 2019 2012 2012 2016 2021\n",
      " 2021 2009 2012 2020 2017 2016 2021 2012 2021 2010 2015 2021 2013 2021\n",
      " 2016 2021 2021 2010 2011 2016 2021 2011]\n"
     ]
    }
   ],
   "source": [
    "predict_SVC=a.predict(x_test)\n",
    "print(predict_SVC)"
   ]
  },
  {
   "cell_type": "code",
   "execution_count": 33,
   "metadata": {},
   "outputs": [
    {
     "name": "stdout",
     "output_type": "stream",
     "text": [
      "[[0 2 3 0 0 0 0 0 0 0 0 0 0]\n",
      " [2 4 3 2 1 0 0 0 0 0 0 0 1]\n",
      " [1 0 1 0 0 0 0 0 0 0 0 0 2]\n",
      " [0 0 2 1 0 0 0 3 1 0 0 0 2]\n",
      " [0 0 1 2 1 0 0 1 1 0 0 1 4]\n",
      " [1 0 1 2 1 0 0 0 0 0 1 3 4]\n",
      " [0 0 0 1 1 0 1 2 0 0 2 0 6]\n",
      " [0 0 1 1 1 0 0 1 0 0 3 0 4]\n",
      " [0 0 0 2 1 0 0 0 0 0 0 0 3]\n",
      " [0 0 0 1 1 0 1 0 0 0 1 0 3]\n",
      " [0 0 1 2 1 0 1 0 0 0 1 0 2]\n",
      " [0 0 0 4 1 0 1 1 0 0 0 1 2]\n",
      " [0 0 0 1 1 0 0 1 0 0 0 0 7]]\n"
     ]
    }
   ],
   "source": [
    "results = confusion_matrix(y_test,predict_SVC)\n",
    "print(results)"
   ]
  },
  {
   "cell_type": "code",
   "execution_count": 34,
   "metadata": {},
   "outputs": [],
   "source": [
    "from sklearn.ensemble import RandomForestClassifier\n",
    "rf=RandomForestClassifier()"
   ]
  },
  {
   "cell_type": "code",
   "execution_count": 35,
   "metadata": {},
   "outputs": [
    {
     "data": {
      "text/html": [
       "<style>#sk-container-id-5 {color: black;background-color: white;}#sk-container-id-5 pre{padding: 0;}#sk-container-id-5 div.sk-toggleable {background-color: white;}#sk-container-id-5 label.sk-toggleable__label {cursor: pointer;display: block;width: 100%;margin-bottom: 0;padding: 0.3em;box-sizing: border-box;text-align: center;}#sk-container-id-5 label.sk-toggleable__label-arrow:before {content: \"▸\";float: left;margin-right: 0.25em;color: #696969;}#sk-container-id-5 label.sk-toggleable__label-arrow:hover:before {color: black;}#sk-container-id-5 div.sk-estimator:hover label.sk-toggleable__label-arrow:before {color: black;}#sk-container-id-5 div.sk-toggleable__content {max-height: 0;max-width: 0;overflow: hidden;text-align: left;background-color: #f0f8ff;}#sk-container-id-5 div.sk-toggleable__content pre {margin: 0.2em;color: black;border-radius: 0.25em;background-color: #f0f8ff;}#sk-container-id-5 input.sk-toggleable__control:checked~div.sk-toggleable__content {max-height: 200px;max-width: 100%;overflow: auto;}#sk-container-id-5 input.sk-toggleable__control:checked~label.sk-toggleable__label-arrow:before {content: \"▾\";}#sk-container-id-5 div.sk-estimator input.sk-toggleable__control:checked~label.sk-toggleable__label {background-color: #d4ebff;}#sk-container-id-5 div.sk-label input.sk-toggleable__control:checked~label.sk-toggleable__label {background-color: #d4ebff;}#sk-container-id-5 input.sk-hidden--visually {border: 0;clip: rect(1px 1px 1px 1px);clip: rect(1px, 1px, 1px, 1px);height: 1px;margin: -1px;overflow: hidden;padding: 0;position: absolute;width: 1px;}#sk-container-id-5 div.sk-estimator {font-family: monospace;background-color: #f0f8ff;border: 1px dotted black;border-radius: 0.25em;box-sizing: border-box;margin-bottom: 0.5em;}#sk-container-id-5 div.sk-estimator:hover {background-color: #d4ebff;}#sk-container-id-5 div.sk-parallel-item::after {content: \"\";width: 100%;border-bottom: 1px solid gray;flex-grow: 1;}#sk-container-id-5 div.sk-label:hover label.sk-toggleable__label {background-color: #d4ebff;}#sk-container-id-5 div.sk-serial::before {content: \"\";position: absolute;border-left: 1px solid gray;box-sizing: border-box;top: 0;bottom: 0;left: 50%;z-index: 0;}#sk-container-id-5 div.sk-serial {display: flex;flex-direction: column;align-items: center;background-color: white;padding-right: 0.2em;padding-left: 0.2em;position: relative;}#sk-container-id-5 div.sk-item {position: relative;z-index: 1;}#sk-container-id-5 div.sk-parallel {display: flex;align-items: stretch;justify-content: center;background-color: white;position: relative;}#sk-container-id-5 div.sk-item::before, #sk-container-id-5 div.sk-parallel-item::before {content: \"\";position: absolute;border-left: 1px solid gray;box-sizing: border-box;top: 0;bottom: 0;left: 50%;z-index: -1;}#sk-container-id-5 div.sk-parallel-item {display: flex;flex-direction: column;z-index: 1;position: relative;background-color: white;}#sk-container-id-5 div.sk-parallel-item:first-child::after {align-self: flex-end;width: 50%;}#sk-container-id-5 div.sk-parallel-item:last-child::after {align-self: flex-start;width: 50%;}#sk-container-id-5 div.sk-parallel-item:only-child::after {width: 0;}#sk-container-id-5 div.sk-dashed-wrapped {border: 1px dashed gray;margin: 0 0.4em 0.5em 0.4em;box-sizing: border-box;padding-bottom: 0.4em;background-color: white;}#sk-container-id-5 div.sk-label label {font-family: monospace;font-weight: bold;display: inline-block;line-height: 1.2em;}#sk-container-id-5 div.sk-label-container {text-align: center;}#sk-container-id-5 div.sk-container {/* jupyter's `normalize.less` sets `[hidden] { display: none; }` but bootstrap.min.css set `[hidden] { display: none !important; }` so we also need the `!important` here to be able to override the default hidden behavior on the sphinx rendered scikit-learn.org. See: https://github.com/scikit-learn/scikit-learn/issues/21755 */display: inline-block !important;position: relative;}#sk-container-id-5 div.sk-text-repr-fallback {display: none;}</style><div id=\"sk-container-id-5\" class=\"sk-top-container\"><div class=\"sk-text-repr-fallback\"><pre>RandomForestClassifier()</pre><b>In a Jupyter environment, please rerun this cell to show the HTML representation or trust the notebook. <br />On GitHub, the HTML representation is unable to render, please try loading this page with nbviewer.org.</b></div><div class=\"sk-container\" hidden><div class=\"sk-item\"><div class=\"sk-estimator sk-toggleable\"><input class=\"sk-toggleable__control sk-hidden--visually\" id=\"sk-estimator-id-5\" type=\"checkbox\" checked><label for=\"sk-estimator-id-5\" class=\"sk-toggleable__label sk-toggleable__label-arrow\">RandomForestClassifier</label><div class=\"sk-toggleable__content\"><pre>RandomForestClassifier()</pre></div></div></div></div></div>"
      ],
      "text/plain": [
       "RandomForestClassifier()"
      ]
     },
     "execution_count": 35,
     "metadata": {},
     "output_type": "execute_result"
    }
   ],
   "source": [
    "rf.fit(x_train,y_train)"
   ]
  },
  {
   "cell_type": "code",
   "execution_count": 36,
   "metadata": {},
   "outputs": [
    {
     "name": "stdout",
     "output_type": "stream",
     "text": [
      "[2020 2018 2011 2012 2018 2017 2018 2010 2013 2009 2011 2015 2014 2019\n",
      " 2017 2015 2012 2014 2017 2014 2014 2017 2012 2011 2015 2015 2010 2021\n",
      " 2020 2014 2015 2011 2021 2009 2016 2018 2017 2016 2016 2011 2015 2020\n",
      " 2020 2021 2019 2017 2021 2013 2021 2019 2015 2017 2021 2016 2018 2020\n",
      " 2017 2015 2021 2010 2021 2015 2010 2016 2017 2014 2018 2015 2018 2013\n",
      " 2019 2016 2012 2012 2013 2015 2017 2019 2019 2010 2020 2012 2020 2011\n",
      " 2021 2015 2013 2016 2021 2013 2009 2020 2021 2017 2009 2015 2013 2017\n",
      " 2019 2010 2018 2015 2020 2018 2017 2011 2016 2011 2018 2010 2016 2017\n",
      " 2017 2021 2016 2010 2012 2016 2016 2009]\n"
     ]
    }
   ],
   "source": [
    "predict_forest=rf.predict(x_test)\n",
    "print(predict_forest)"
   ]
  },
  {
   "cell_type": "code",
   "execution_count": 37,
   "metadata": {},
   "outputs": [
    {
     "name": "stdout",
     "output_type": "stream",
     "text": [
      "[[2 1 1 0 0 0 0 0 0 0 0 0 1]\n",
      " [2 4 3 1 0 0 0 0 0 0 0 0 3]\n",
      " [0 1 1 0 0 0 1 0 1 0 0 0 0]\n",
      " [0 0 0 1 1 0 3 2 0 1 0 1 0]\n",
      " [0 0 0 0 2 1 1 3 4 0 0 0 0]\n",
      " [0 1 1 2 2 0 2 0 2 1 1 1 0]\n",
      " [0 0 1 0 0 1 5 1 0 2 1 2 0]\n",
      " [0 0 0 2 0 2 1 3 1 0 1 1 0]\n",
      " [0 0 0 1 0 1 0 1 1 0 2 0 0]\n",
      " [0 0 1 0 0 0 0 0 1 3 1 1 0]\n",
      " [0 0 0 0 0 1 0 0 3 2 0 2 0]\n",
      " [0 0 0 0 2 0 1 2 2 1 1 1 0]\n",
      " [1 1 0 0 0 0 0 0 0 0 0 0 8]]\n"
     ]
    }
   ],
   "source": [
    "results = confusion_matrix(y_test,predict_forest)\n",
    "print(results)"
   ]
  },
  {
   "cell_type": "code",
   "execution_count": 38,
   "metadata": {},
   "outputs": [
    {
     "data": {
      "text/plain": [
       "0.25833333333333336"
      ]
     },
     "execution_count": 38,
     "metadata": {},
     "output_type": "execute_result"
    }
   ],
   "source": [
    "rfacc=accuracy_score(y_test,predict_forest)\n",
    "rfacc"
   ]
  },
  {
   "cell_type": "code",
   "execution_count": 45,
   "metadata": {},
   "outputs": [
    {
     "name": "stdout",
     "output_type": "stream",
     "text": [
      "Best Threshold=0.019791\n"
     ]
    },
    {
     "data": {
      "image/png": "[encoded data removed]",
      "text/plain": [
       "<Figure size 640x480 with 1 Axes>"
      ]
     },
     "metadata": {},
     "output_type": "display_data"
    }
   ],
   "source": [
    "x, y = make_classification(n_samples=10000, n_features=2, n_redundant=0,\n",
    "                          n_clusters_per_class=1, weights=[0.99], flip_y=0, random_state=4)\n",
    "x_train, x_test, y_train, y_test = train_test_split(x, y, test_size=0.5, random_state=2)\n",
    "\n",
    "model = LogisticRegression()\n",
    "model.fit(x_train, y_train)\n",
    "\n",
    "y_pred = model.predict_proba(x_test)\n",
    "y_pred = y_pred[:, 1]\n",
    "fpr, tpr, thresholds = roc_curve(y_test, y_pred)\n",
    "\n",
    "J = tpr - fpr\n",
    "ix = argmax(J)\n",
    "best_thresh = thresholds[ix]\n",
    "print('Best Threshold=%f' % (best_thresh))\n",
    "\n",
    "plt.plot([0,1], [0,1], linestyle='--', label='No Skill')\n",
    "plt.plot(fpr, tpr, marker='.', label='Logistic')\n",
    "plt.xlabel('False Positive Rate')\n",
    "plt.ylabel('True Positive Rate')\n",
    "plt.legend()\n",
    "plt.show()"
   ]
  }
 ],
 "metadata": {
  "kernelspec": {
   "display_name": "Python 3 (ipykernel)",
   "language": "python",
   "name": "python3"
  },
  "language_info": {
   "codemirror_mode": {
    "name": "ipython",
    "version": 3
   },
   "file_extension": ".py",
   "mimetype": "text/x-python",
   "name": "python",
   "nbconvert_exporter": "python",
   "pygments_lexer": "ipython3",
   "version": "3.11.3"
  }
 },
 "nbformat": 4,
 "nbformat_minor": 2
}
